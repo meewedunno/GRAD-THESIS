{
 "cells": [
  {
   "cell_type": "code",
   "execution_count": 1,
   "id": "e3fe0061e95c7d01",
   "metadata": {
    "ExecuteTime": {
     "end_time": "2024-05-05T10:06:17.775272Z",
     "start_time": "2024-05-05T10:05:56.550547Z"
    }
   },
   "outputs": [
    {
     "name": "stdout",
     "output_type": "stream",
     "text": [
      "Requirement already satisfied: python-dotenv in c:\\users\\admin\\anaconda3\\lib\\site-packages (0.21.0)\n",
      "Collecting serpapi\n",
      "  Obtaining dependency information for serpapi from https://files.pythonhosted.org/packages/df/6a/21deade04100d64844e494353a5d65e7971fbdfddf78eb1f248423593ad0/serpapi-0.1.5-py2.py3-none-any.whl.metadata\n",
      "  Downloading serpapi-0.1.5-py2.py3-none-any.whl.metadata (10 kB)\n",
      "Requirement already satisfied: requests in c:\\users\\admin\\anaconda3\\lib\\site-packages (from serpapi) (2.31.0)\n",
      "Requirement already satisfied: charset-normalizer<4,>=2 in c:\\users\\admin\\anaconda3\\lib\\site-packages (from requests->serpapi) (2.0.4)\n",
      "Requirement already satisfied: idna<4,>=2.5 in c:\\users\\admin\\anaconda3\\lib\\site-packages (from requests->serpapi) (3.4)\n",
      "Requirement already satisfied: urllib3<3,>=1.21.1 in c:\\users\\admin\\anaconda3\\lib\\site-packages (from requests->serpapi) (1.26.16)\n",
      "Requirement already satisfied: certifi>=2017.4.17 in c:\\users\\admin\\anaconda3\\lib\\site-packages (from requests->serpapi) (2023.7.22)\n",
      "Downloading serpapi-0.1.5-py2.py3-none-any.whl (10 kB)\n",
      "Installing collected packages: serpapi\n",
      "Successfully installed serpapi-0.1.5\n"
     ]
    }
   ],
   "source": [
    "!pip install python-dotenv\n",
    "!pip install serpapi"
   ]
  },
  {
   "cell_type": "code",
   "execution_count": 2,
   "id": "bde397d7c09290a1",
   "metadata": {
    "ExecuteTime": {
     "end_time": "2024-05-05T10:13:12.472192Z",
     "start_time": "2024-05-05T10:13:11.945283Z"
    }
   },
   "outputs": [],
   "source": [
    "import serpapi\n",
    "import os"
   ]
  },
  {
   "cell_type": "markdown",
   "id": "8efd9913",
   "metadata": {},
   "source": [
    "**To get an API Key, it needs to register as a member at serpapi.com. Note, for the free version, there is a limit of only 100 searches, equivalent to 100 review pages.**"
   ]
  },
  {
   "cell_type": "code",
   "execution_count": 42,
   "id": "fbb2043bcabd4a69",
   "metadata": {
    "ExecuteTime": {
     "end_time": "2024-05-05T10:14:47.544491Z",
     "start_time": "2024-05-05T10:14:47.484930Z"
    }
   },
   "outputs": [],
   "source": [
    "api_key = '9f86d626688695507702b392f160feb94427df6200920bb17edc94a92e691036'\n",
    "client = serpapi.Client(api_key=api_key)"
   ]
  },
  {
   "cell_type": "code",
   "execution_count": 43,
   "id": "1af86d40b45703d9",
   "metadata": {
    "ExecuteTime": {
     "end_time": "2024-05-05T10:52:59.125588Z",
     "start_time": "2024-05-05T10:52:47.558416Z"
    }
   },
   "outputs": [
    {
     "name": "stdout",
     "output_type": "stream",
     "text": [
      "Requirement already satisfied: pandas in c:\\users\\admin\\anaconda3\\lib\\site-packages (2.0.3)\n",
      "Requirement already satisfied: python-dateutil>=2.8.2 in c:\\users\\admin\\anaconda3\\lib\\site-packages (from pandas) (2.8.2)\n",
      "Requirement already satisfied: pytz>=2020.1 in c:\\users\\admin\\anaconda3\\lib\\site-packages (from pandas) (2023.3.post1)\n",
      "Requirement already satisfied: tzdata>=2022.1 in c:\\users\\admin\\anaconda3\\lib\\site-packages (from pandas) (2023.3)\n",
      "Requirement already satisfied: numpy>=1.21.0 in c:\\users\\admin\\anaconda3\\lib\\site-packages (from pandas) (1.24.3)\n",
      "Requirement already satisfied: six>=1.5 in c:\\users\\admin\\anaconda3\\lib\\site-packages (from python-dateutil>=2.8.2->pandas) (1.16.0)\n"
     ]
    }
   ],
   "source": [
    "!pip install pandas\n",
    "import pandas as pd"
   ]
  },
  {
   "cell_type": "code",
   "execution_count": 46,
   "id": "8aee81c27a490972",
   "metadata": {
    "ExecuteTime": {
     "end_time": "2024-05-05T10:58:31.437913Z",
     "start_time": "2024-05-05T10:58:30.653640Z"
    }
   },
   "outputs": [
    {
     "ename": "HTTPError",
     "evalue": "429 Client Error: Too Many Requests for url: https://serpapi.com/search?engine=google_play_product&product_id=com.mservice.momotransfer&store=apps&all_reviews=true&gl=VN&hl=vi&num=199&api_key=571cf5da92391fd730cda4e5eab2d6be3790f8dae98c363d03734b8be928e008",
     "output_type": "error",
     "traceback": [
      "\u001b[1;31m---------------------------------------------------------------------------\u001b[0m",
      "\u001b[1;31mHTTPError\u001b[0m                                 Traceback (most recent call last)",
      "File \u001b[1;32m~\\anaconda3\\Lib\\site-packages\\serpapi\\http.py:59\u001b[0m, in \u001b[0;36mraise_for_status\u001b[1;34m(r)\u001b[0m\n\u001b[0;32m     58\u001b[0m \u001b[38;5;28;01mtry\u001b[39;00m:\n\u001b[1;32m---> 59\u001b[0m     r\u001b[38;5;241m.\u001b[39mraise_for_status()\n\u001b[0;32m     60\u001b[0m \u001b[38;5;28;01mexcept\u001b[39;00m requests\u001b[38;5;241m.\u001b[39mexceptions\u001b[38;5;241m.\u001b[39mHTTPError \u001b[38;5;28;01mas\u001b[39;00m e:\n",
      "File \u001b[1;32m~\\anaconda3\\Lib\\site-packages\\requests\\models.py:1021\u001b[0m, in \u001b[0;36mResponse.raise_for_status\u001b[1;34m(self)\u001b[0m\n\u001b[0;32m   1020\u001b[0m \u001b[38;5;28;01mif\u001b[39;00m http_error_msg:\n\u001b[1;32m-> 1021\u001b[0m     \u001b[38;5;28;01mraise\u001b[39;00m HTTPError(http_error_msg, response\u001b[38;5;241m=\u001b[39m\u001b[38;5;28mself\u001b[39m)\n",
      "\u001b[1;31mHTTPError\u001b[0m: 429 Client Error: Too Many Requests for url: https://serpapi.com/search?engine=google_play_product&product_id=com.mservice.momotransfer&store=apps&all_reviews=true&gl=VN&hl=vi&num=199&api_key=571cf5da92391fd730cda4e5eab2d6be3790f8dae98c363d03734b8be928e008",
      "\nDuring handling of the above exception, another exception occurred:\n",
      "\u001b[1;31mHTTPError\u001b[0m                                 Traceback (most recent call last)",
      "File \u001b[1;32m~\\anaconda3\\Lib\\site-packages\\serpapi\\http.py:47\u001b[0m, in \u001b[0;36mHTTPClient.request\u001b[1;34m(self, method, path, params, assert_200, **kwargs)\u001b[0m\n\u001b[0;32m     46\u001b[0m \u001b[38;5;28;01mtry\u001b[39;00m:\n\u001b[1;32m---> 47\u001b[0m     raise_for_status(r)\n\u001b[0;32m     48\u001b[0m \u001b[38;5;28;01mexcept\u001b[39;00m requests\u001b[38;5;241m.\u001b[39mexceptions\u001b[38;5;241m.\u001b[39mHTTPError \u001b[38;5;28;01mas\u001b[39;00m e:\n",
      "File \u001b[1;32m~\\anaconda3\\Lib\\site-packages\\serpapi\\http.py:61\u001b[0m, in \u001b[0;36mraise_for_status\u001b[1;34m(r)\u001b[0m\n\u001b[0;32m     60\u001b[0m \u001b[38;5;28;01mexcept\u001b[39;00m requests\u001b[38;5;241m.\u001b[39mexceptions\u001b[38;5;241m.\u001b[39mHTTPError \u001b[38;5;28;01mas\u001b[39;00m e:\n\u001b[1;32m---> 61\u001b[0m     \u001b[38;5;28;01mraise\u001b[39;00m HTTPError(e)\n",
      "\u001b[1;31mHTTPError\u001b[0m: 429 Client Error: Too Many Requests for url: https://serpapi.com/search?engine=google_play_product&product_id=com.mservice.momotransfer&store=apps&all_reviews=true&gl=VN&hl=vi&num=199&api_key=571cf5da92391fd730cda4e5eab2d6be3790f8dae98c363d03734b8be928e008",
      "\nDuring handling of the above exception, another exception occurred:\n",
      "\u001b[1;31mHTTPError\u001b[0m                                 Traceback (most recent call last)",
      "Cell \u001b[1;32mIn[46], line 6\u001b[0m\n\u001b[0;32m      3\u001b[0m pages_to_scrape \u001b[38;5;241m=\u001b[39m \u001b[38;5;241m1\u001b[39m\n\u001b[0;32m      4\u001b[0m pages_scraped \u001b[38;5;241m=\u001b[39m \u001b[38;5;241m0\u001b[39m\n\u001b[1;32m----> 6\u001b[0m results \u001b[38;5;241m=\u001b[39m client\u001b[38;5;241m.\u001b[39msearch(\n\u001b[0;32m      7\u001b[0m     engine\u001b[38;5;241m=\u001b[39m\u001b[38;5;124m'\u001b[39m\u001b[38;5;124mgoogle_play_product\u001b[39m\u001b[38;5;124m'\u001b[39m,\n\u001b[0;32m      8\u001b[0m     product_id\u001b[38;5;241m=\u001b[39m\u001b[38;5;124m'\u001b[39m\u001b[38;5;124mcom.mservice.momotransfer\u001b[39m\u001b[38;5;124m'\u001b[39m,\n\u001b[0;32m      9\u001b[0m     store\u001b[38;5;241m=\u001b[39m\u001b[38;5;124m'\u001b[39m\u001b[38;5;124mapps\u001b[39m\u001b[38;5;124m'\u001b[39m,\n\u001b[0;32m     10\u001b[0m     all_reviews\u001b[38;5;241m=\u001b[39m\u001b[38;5;124m'\u001b[39m\u001b[38;5;124mtrue\u001b[39m\u001b[38;5;124m'\u001b[39m,\n\u001b[0;32m     11\u001b[0m     gl\u001b[38;5;241m=\u001b[39m\u001b[38;5;124m'\u001b[39m\u001b[38;5;124mVN\u001b[39m\u001b[38;5;124m'\u001b[39m,\n\u001b[0;32m     12\u001b[0m     hl\u001b[38;5;241m=\u001b[39m\u001b[38;5;124m'\u001b[39m\u001b[38;5;124mvi\u001b[39m\u001b[38;5;124m'\u001b[39m,\n\u001b[0;32m     13\u001b[0m     num\u001b[38;5;241m=\u001b[39m\u001b[38;5;241m199\u001b[39m\n\u001b[0;32m     14\u001b[0m )\n\u001b[0;32m     16\u001b[0m \u001b[38;5;28mprint\u001b[39m(\u001b[38;5;124m'\u001b[39m\u001b[38;5;124mTotal reviews on page 1: \u001b[39m\u001b[38;5;124m'\u001b[39m, \u001b[38;5;28mlen\u001b[39m(results[\u001b[38;5;124m'\u001b[39m\u001b[38;5;124mreviews\u001b[39m\u001b[38;5;124m'\u001b[39m]))\n\u001b[0;32m     17\u001b[0m pages_scraped \u001b[38;5;241m+\u001b[39m\u001b[38;5;241m=\u001b[39m \u001b[38;5;241m1\u001b[39m\n",
      "File \u001b[1;32m~\\anaconda3\\Lib\\site-packages\\serpapi\\core.py:66\u001b[0m, in \u001b[0;36mClient.search\u001b[1;34m(self, params, **kwargs)\u001b[0m\n\u001b[0;32m     63\u001b[0m \u001b[38;5;28;01mif\u001b[39;00m kwargs:\n\u001b[0;32m     64\u001b[0m     params\u001b[38;5;241m.\u001b[39mupdate(kwargs)\n\u001b[1;32m---> 66\u001b[0m r \u001b[38;5;241m=\u001b[39m \u001b[38;5;28mself\u001b[39m\u001b[38;5;241m.\u001b[39mrequest(\u001b[38;5;124m\"\u001b[39m\u001b[38;5;124mGET\u001b[39m\u001b[38;5;124m\"\u001b[39m, \u001b[38;5;124m\"\u001b[39m\u001b[38;5;124m/search\u001b[39m\u001b[38;5;124m\"\u001b[39m, params\u001b[38;5;241m=\u001b[39mparams)\n\u001b[0;32m     68\u001b[0m \u001b[38;5;28;01mreturn\u001b[39;00m SerpResults\u001b[38;5;241m.\u001b[39mfrom_http_response(r, client\u001b[38;5;241m=\u001b[39m\u001b[38;5;28mself\u001b[39m)\n",
      "File \u001b[1;32m~\\anaconda3\\Lib\\site-packages\\serpapi\\http.py:49\u001b[0m, in \u001b[0;36mHTTPClient.request\u001b[1;34m(self, method, path, params, assert_200, **kwargs)\u001b[0m\n\u001b[0;32m     47\u001b[0m         raise_for_status(r)\n\u001b[0;32m     48\u001b[0m     \u001b[38;5;28;01mexcept\u001b[39;00m requests\u001b[38;5;241m.\u001b[39mexceptions\u001b[38;5;241m.\u001b[39mHTTPError \u001b[38;5;28;01mas\u001b[39;00m e:\n\u001b[1;32m---> 49\u001b[0m         \u001b[38;5;28;01mraise\u001b[39;00m HTTPError(e)\n\u001b[0;32m     51\u001b[0m \u001b[38;5;28;01mreturn\u001b[39;00m r\n",
      "\u001b[1;31mHTTPError\u001b[0m: 429 Client Error: Too Many Requests for url: https://serpapi.com/search?engine=google_play_product&product_id=com.mservice.momotransfer&store=apps&all_reviews=true&gl=VN&hl=vi&num=199&api_key=571cf5da92391fd730cda4e5eab2d6be3790f8dae98c363d03734b8be928e008"
     ]
    }
   ],
   "source": [
    "data = []\n",
    "\n",
    "pages_to_scrape = 100\n",
    "pages_scraped = 0\n",
    "\n",
    "results = client.search(\n",
    "    engine='google_play_product',\n",
    "    product_id='com.mservice.momotransfer',\n",
    "    store='apps',\n",
    "    all_reviews='true',\n",
    "    gl='VN',\n",
    "    hl='vi',\n",
    "    num=199\n",
    ")\n",
    "\n",
    "print('Total reviews on page 1: ', len(results['reviews']))\n",
    "pages_scraped += 1\n",
    "# Append reviews from the first page to the data list\n",
    "data.extend(results['reviews'])\n",
    "\n",
    "# Pagination logic\n",
    "while 'serpapi_pagination' in results and pages_scraped < pages_to_scrape:\n",
    "    results = client.search(\n",
    "        engine='google_play_product',\n",
    "        product_id='com.mservice.momotransfer',\n",
    "        store='apps',\n",
    "        all_reviews='true',\n",
    "        gl='VN',\n",
    "        hl='vi',\n",
    "        num=199,\n",
    "        next_page_token=results['serpapi_pagination']['next_page_token']\n",
    "    )\n",
    "#     print('Total reviews on page', pages_scraped + 1, ':', len(results['reviews']))\n",
    "    pages_scraped += 1\n",
    "    # Append reviews from the current page to the data list\n",
    "    data.extend(results['reviews'])\n",
    "\n",
    "print('All done')\n"
   ]
  },
  {
   "cell_type": "code",
   "execution_count": 36,
   "id": "cce38dac042803d1",
   "metadata": {
    "ExecuteTime": {
     "end_time": "2024-05-05T10:54:30.151566Z",
     "start_time": "2024-05-05T10:54:30.112109Z"
    }
   },
   "outputs": [],
   "source": [
    "df = pd.DataFrame(data)\n",
    "df.to_csv('momo.csv', index=False)"
   ]
  },
  {
   "cell_type": "code",
   "execution_count": 37,
   "id": "dfd8471085c1008e",
   "metadata": {},
   "outputs": [
    {
     "name": "stdout",
     "output_type": "stream",
     "text": [
      "                         title  \\\n",
      "0               Nhat Canh Dang   \n",
      "1            Hoàng Ngọc Nguyễn   \n",
      "2                    Phuong Vu   \n",
      "3                     dile van   \n",
      "4      11A1-35- Huỳnh Văn Thái   \n",
      "...                        ...   \n",
      "19895                 Tran Duy   \n",
      "19896            minhcanh doan   \n",
      "19897                 Sam Sung   \n",
      "19898                  Ngan Be   \n",
      "19899                Chug Thủy   \n",
      "\n",
      "                                                  avatar  rating  \\\n",
      "0      https://play-lh.googleusercontent.com/a-/ALV-U...     1.0   \n",
      "1      https://play-lh.googleusercontent.com/a/ACg8oc...     1.0   \n",
      "2      https://play-lh.googleusercontent.com/a/ACg8oc...     1.0   \n",
      "3      https://play-lh.googleusercontent.com/a-/ALV-U...     1.0   \n",
      "4      https://play-lh.googleusercontent.com/a-/ALV-U...     1.0   \n",
      "...                                                  ...     ...   \n",
      "19895  https://play-lh.googleusercontent.com/a/ACg8oc...     5.0   \n",
      "19896  https://play-lh.googleusercontent.com/a/ACg8oc...     5.0   \n",
      "19897  https://play-lh.googleusercontent.com/a/ACg8oc...     5.0   \n",
      "19898  https://play-lh.googleusercontent.com/a/ACg8oc...     5.0   \n",
      "19899  https://play-lh.googleusercontent.com/a-/ALV-U...     5.0   \n",
      "\n",
      "                                                 snippet  likes  \\\n",
      "0      Báo cập nhật cmnd gắn chip mà quét NFC thì cứ ...     44   \n",
      "1      Quá tệ tk momo có tiền mà mua hàng chuyển khoả...      2   \n",
      "2      Trông giao diện momo như cờ bạc á, như mí thằn...     65   \n",
      "3      Bực thật có cái mật khẩu sài bao lâu giờ không...      3   \n",
      "4      Giao dịch thất bại bị trừ tiền ngân hàng 6 ngà...      1   \n",
      "...                                                  ...    ...   \n",
      "19895                                                 Ok      0   \n",
      "19896                                               Good      0   \n",
      "19897                                        Tot Rat tot      0   \n",
      "19898                                                 Ok     23   \n",
      "19899                                              tụyt😽      0   \n",
      "\n",
      "                     date              iso_date response  \n",
      "0            May 02, 2024  2024-05-02T05:26:30Z      NaN  \n",
      "1            May 03, 2024  2024-05-03T08:24:00Z      NaN  \n",
      "2          April 29, 2024  2024-04-29T04:16:22Z      NaN  \n",
      "3            May 02, 2024  2024-05-02T13:28:34Z      NaN  \n",
      "4            May 04, 2024  2024-05-04T02:03:49Z      NaN  \n",
      "...                   ...                   ...      ...  \n",
      "19895      April 27, 2023  2023-04-27T16:05:40Z      NaN  \n",
      "19896  September 23, 2023  2023-09-23T04:06:02Z      NaN  \n",
      "19897      April 27, 2023  2023-04-27T04:58:28Z      NaN  \n",
      "19898      April 08, 2023  2023-04-08T18:59:31Z      NaN  \n",
      "19899     August 08, 2023  2023-08-08T00:40:22Z      NaN  \n",
      "\n",
      "[19900 rows x 8 columns]\n"
     ]
    }
   ],
   "source": [
    "print(df)"
   ]
  }
 ],
 "metadata": {
  "kernelspec": {
   "display_name": "Python 3 (ipykernel)",
   "language": "python",
   "name": "python3"
  },
  "language_info": {
   "codemirror_mode": {
    "name": "ipython",
    "version": 3
   },
   "file_extension": ".py",
   "mimetype": "text/x-python",
   "name": "python",
   "nbconvert_exporter": "python",
   "pygments_lexer": "ipython3",
   "version": "3.11.5"
  }
 },
 "nbformat": 4,
 "nbformat_minor": 5
}
